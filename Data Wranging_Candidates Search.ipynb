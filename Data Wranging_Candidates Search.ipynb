{
 "cells": [
  {
   "cell_type": "markdown",
   "metadata": {},
   "source": [
    "## <span style=color:blue> Human Resource and Candidate Search</span>\n",
    "\n",
    "Analyst - Ashlea Pin Jui Huang"
   ]
  },
  {
   "cell_type": "markdown",
   "metadata": {},
   "source": [
    "### <span style=color:blue> Overview</span>\n",
    "\n",
    "Company Z - An outsourcing compnay in Customer Service is looking for team leaders with the new campaign they are about to launch. In order to help out the HR department to speed up the recruiting process. We will be creating a resume parser to screen the candidates. This project will fasten the hiring process and assit recruiters to filter out unqualified candidates for the first round, the qualified candidates will move to the second process for further screening."
   ]
  },
  {
   "cell_type": "markdown",
   "metadata": {},
   "source": [
    "### <span style=color:blue> About the Data</span>\n",
    "\n",
    "We will be using 16 resumes, 1 csv file for a list of candidates and one file for job description. Resumes are collected on the internet such as Velvet Jobs with fictitious names. The content of job description is collected from Linkedin with a small modification."
   ]
  },
  {
   "cell_type": "markdown",
   "metadata": {},
   "source": [
    "### <span style=color:blue> Step1 - Data Exploration</span>"
   ]
  },
  {
   "cell_type": "code",
   "execution_count": 631,
   "metadata": {},
   "outputs": [],
   "source": [
    "import os\n",
    "import numpy as np\n",
    "import scipy\n",
    "import pandas as pd\n",
    "from pandas import read_csv"
   ]
  },
  {
   "cell_type": "markdown",
   "metadata": {},
   "source": [
    "#### Let's first look at the job description and see what we are working with."
   ]
  },
  {
   "cell_type": "code",
   "execution_count": 632,
   "metadata": {
    "scrolled": true
   },
   "outputs": [
    {
     "name": "stdout",
     "output_type": "stream",
     "text": [
      "Description\n",
      "Imagine yourself going to work with one thing on your mind: to provide the best customer experience to your clients. As you tackle your new tasks for the day, you know what to keep in mind. As you look at your tasks for the day as Team Leader, you should be able to drive the performance of the teammates in order for them to continuously hit their goals. You must be able to coach and manage the teammates under your supervision and at the same time act as a bridge between your teammates and the other departments.\n",
      "\n",
      "\n",
      "As a Team Leader, you manage the day-to-day planning and operation of your team. This includes making sure that each of the Teammate passes their Service Level Agreement (SLIs) and hit their Key Performance Indicators (KPIs). A Team Leader is also in charge of managing the team and make sure everyone adheres to their schedule. As a leader, you must be organized and be able to handle responsibility. Part of the role is to be able to train and help in their development by conducting team huddles, coaching sessions, and by recognizing their weaknesses so you can offer solutions to them. Through that, your team will be able to deliver a superior customer experience which is the main goal of the department. Aside from creating reports of the team’s performance and feedback from your client, the Team leader should be able to handle the issues that might arise (including HR related ones). Not to mention, being creative in terms of thinking of solutions and acting as the mediator between the management and your team is a  must.\n",
      "\n",
      "\n",
      "\n",
      "Requirements\n",
      "*At least 2 years in Customer Service and leading a team.\n",
      "*Extraordinary listening, communication, and organizational skills\n",
      "*Demonstrated ability to multi-task and follow through while paying attention to detail and deadlines\n",
      "*Coachability, interest in implementing feedback, and dedication to the improvement of your craft\n",
      "*Good interpersonal and relationship building skills\n",
      "*An infectiously positive attitude and drive to win; a self-starter attitude and determination\n",
      "*Be energetic and have the ability to thrive in a fast-paced dynamic environment and always remain professional\n",
      "*Ability to remain calm and rational in highly stressful situations\n",
      "*Team player who thinks quickly and is capable of creative problem solving\n",
      "*Familiar with E-Commerce or any other CRM is a plus\n"
     ]
    }
   ],
   "source": [
    "JD = open('/Users/AshleaHuang/Desktop/A1/Job Description.txt',encoding='utf-8')\n",
    "for line in JD:\n",
    "    print(line [:-1])"
   ]
  },
  {
   "cell_type": "code",
   "execution_count": 633,
   "metadata": {},
   "outputs": [
    {
     "data": {
      "text/html": [
       "<div>\n",
       "<style scoped>\n",
       "    .dataframe tbody tr th:only-of-type {\n",
       "        vertical-align: middle;\n",
       "    }\n",
       "\n",
       "    .dataframe tbody tr th {\n",
       "        vertical-align: top;\n",
       "    }\n",
       "\n",
       "    .dataframe thead th {\n",
       "        text-align: right;\n",
       "    }\n",
       "</style>\n",
       "<table border=\"1\" class=\"dataframe\">\n",
       "  <thead>\n",
       "    <tr style=\"text-align: right;\">\n",
       "      <th></th>\n",
       "      <th>Unnamed: 0</th>\n",
       "      <th>Unnamed: 1</th>\n",
       "    </tr>\n",
       "  </thead>\n",
       "  <tbody>\n",
       "    <tr>\n",
       "      <th>0</th>\n",
       "      <td>NaN</td>\n",
       "      <td>NaN</td>\n",
       "    </tr>\n",
       "    <tr>\n",
       "      <th>1</th>\n",
       "      <td>NaN</td>\n",
       "      <td>NaN</td>\n",
       "    </tr>\n",
       "    <tr>\n",
       "      <th>2</th>\n",
       "      <td>Name of Candidate</td>\n",
       "      <td>Name of File</td>\n",
       "    </tr>\n",
       "    <tr>\n",
       "      <th>3</th>\n",
       "      <td>Conner Chase</td>\n",
       "      <td>CV1.txt</td>\n",
       "    </tr>\n",
       "    <tr>\n",
       "      <th>4</th>\n",
       "      <td>Blaire Clark</td>\n",
       "      <td>CV2.txt</td>\n",
       "    </tr>\n",
       "    <tr>\n",
       "      <th>5</th>\n",
       "      <td>Nick Liu</td>\n",
       "      <td>CV3.txt</td>\n",
       "    </tr>\n",
       "    <tr>\n",
       "      <th>6</th>\n",
       "      <td>Andi Richards</td>\n",
       "      <td>CV4.txt</td>\n",
       "    </tr>\n",
       "    <tr>\n",
       "      <th>7</th>\n",
       "      <td>Cater Young</td>\n",
       "      <td>CV5.txt</td>\n",
       "    </tr>\n",
       "    <tr>\n",
       "      <th>8</th>\n",
       "      <td>Jason Huang</td>\n",
       "      <td>CV6.txt</td>\n",
       "    </tr>\n",
       "    <tr>\n",
       "      <th>9</th>\n",
       "      <td>Christine Lacey</td>\n",
       "      <td>CV7.txt</td>\n",
       "    </tr>\n",
       "    <tr>\n",
       "      <th>10</th>\n",
       "      <td>Jasmine Weir</td>\n",
       "      <td>CV8.txt</td>\n",
       "    </tr>\n",
       "    <tr>\n",
       "      <th>11</th>\n",
       "      <td>Iris Richardson</td>\n",
       "      <td>CV9.txt</td>\n",
       "    </tr>\n",
       "    <tr>\n",
       "      <th>12</th>\n",
       "      <td>Jade Smith</td>\n",
       "      <td>CV10.txt</td>\n",
       "    </tr>\n",
       "    <tr>\n",
       "      <th>13</th>\n",
       "      <td>Jay Hope</td>\n",
       "      <td>CV11.txt</td>\n",
       "    </tr>\n",
       "    <tr>\n",
       "      <th>14</th>\n",
       "      <td>Chris Rosso</td>\n",
       "      <td>CV12.txt</td>\n",
       "    </tr>\n",
       "    <tr>\n",
       "      <th>15</th>\n",
       "      <td>Pheobe Buffay</td>\n",
       "      <td>CV13.txt</td>\n",
       "    </tr>\n",
       "    <tr>\n",
       "      <th>16</th>\n",
       "      <td>Rachel Bing</td>\n",
       "      <td>CV14.txt</td>\n",
       "    </tr>\n",
       "    <tr>\n",
       "      <th>17</th>\n",
       "      <td>Pheobe Buffay</td>\n",
       "      <td>CV15.txt</td>\n",
       "    </tr>\n",
       "    <tr>\n",
       "      <th>18</th>\n",
       "      <td>Jackey Forman</td>\n",
       "      <td>CV16.txt</td>\n",
       "    </tr>\n",
       "  </tbody>\n",
       "</table>\n",
       "</div>"
      ],
      "text/plain": [
       "           Unnamed: 0    Unnamed: 1\n",
       "0                 NaN           NaN\n",
       "1                 NaN           NaN\n",
       "2   Name of Candidate  Name of File\n",
       "3        Conner Chase       CV1.txt\n",
       "4        Blaire Clark       CV2.txt\n",
       "5            Nick Liu       CV3.txt\n",
       "6       Andi Richards       CV4.txt\n",
       "7         Cater Young       CV5.txt\n",
       "8         Jason Huang       CV6.txt\n",
       "9     Christine Lacey       CV7.txt\n",
       "10       Jasmine Weir       CV8.txt\n",
       "11    Iris Richardson       CV9.txt\n",
       "12         Jade Smith      CV10.txt\n",
       "13           Jay Hope      CV11.txt\n",
       "14        Chris Rosso      CV12.txt\n",
       "15      Pheobe Buffay      CV13.txt\n",
       "16        Rachel Bing      CV14.txt\n",
       "17      Pheobe Buffay      CV15.txt\n",
       "18      Jackey Forman      CV16.txt"
      ]
     },
     "execution_count": 633,
     "metadata": {},
     "output_type": "execute_result"
    }
   ],
   "source": [
    "cddlist= pd.read_csv('/Users/AshleaHuang/Desktop/A1/Resume/Candidates.csv')\n",
    "\n",
    "cddlist"
   ]
  },
  {
   "cell_type": "markdown",
   "metadata": {},
   "source": [
    "### <span style=color:blue> Step2 - Organize and Clean up</span>"
   ]
  },
  {
   "cell_type": "markdown",
   "metadata": {},
   "source": [
    "#### Now move on to our candidate list, as requested we will skip the first 3 rows to avoid messy headers."
   ]
  },
  {
   "cell_type": "code",
   "execution_count": 635,
   "metadata": {
    "scrolled": true
   },
   "outputs": [
    {
     "data": {
      "text/html": [
       "<div>\n",
       "<style scoped>\n",
       "    .dataframe tbody tr th:only-of-type {\n",
       "        vertical-align: middle;\n",
       "    }\n",
       "\n",
       "    .dataframe tbody tr th {\n",
       "        vertical-align: top;\n",
       "    }\n",
       "\n",
       "    .dataframe thead th {\n",
       "        text-align: right;\n",
       "    }\n",
       "</style>\n",
       "<table border=\"1\" class=\"dataframe\">\n",
       "  <thead>\n",
       "    <tr style=\"text-align: right;\">\n",
       "      <th></th>\n",
       "      <th>Name of Candidate</th>\n",
       "      <th>Name of File</th>\n",
       "    </tr>\n",
       "  </thead>\n",
       "  <tbody>\n",
       "    <tr>\n",
       "      <th>0</th>\n",
       "      <td>Conner Chase</td>\n",
       "      <td>CV1.txt</td>\n",
       "    </tr>\n",
       "    <tr>\n",
       "      <th>1</th>\n",
       "      <td>Blaire Clark</td>\n",
       "      <td>CV2.txt</td>\n",
       "    </tr>\n",
       "    <tr>\n",
       "      <th>2</th>\n",
       "      <td>Nick Liu</td>\n",
       "      <td>CV3.txt</td>\n",
       "    </tr>\n",
       "    <tr>\n",
       "      <th>3</th>\n",
       "      <td>Andi Richards</td>\n",
       "      <td>CV4.txt</td>\n",
       "    </tr>\n",
       "    <tr>\n",
       "      <th>4</th>\n",
       "      <td>Cater Young</td>\n",
       "      <td>CV5.txt</td>\n",
       "    </tr>\n",
       "    <tr>\n",
       "      <th>5</th>\n",
       "      <td>Jason Huang</td>\n",
       "      <td>CV6.txt</td>\n",
       "    </tr>\n",
       "    <tr>\n",
       "      <th>6</th>\n",
       "      <td>Christine Lacey</td>\n",
       "      <td>CV7.txt</td>\n",
       "    </tr>\n",
       "    <tr>\n",
       "      <th>7</th>\n",
       "      <td>Jasmine Weir</td>\n",
       "      <td>CV8.txt</td>\n",
       "    </tr>\n",
       "    <tr>\n",
       "      <th>8</th>\n",
       "      <td>Iris Richardson</td>\n",
       "      <td>CV9.txt</td>\n",
       "    </tr>\n",
       "    <tr>\n",
       "      <th>9</th>\n",
       "      <td>Jade Smith</td>\n",
       "      <td>CV10.txt</td>\n",
       "    </tr>\n",
       "    <tr>\n",
       "      <th>10</th>\n",
       "      <td>Jay Hope</td>\n",
       "      <td>CV11.txt</td>\n",
       "    </tr>\n",
       "    <tr>\n",
       "      <th>11</th>\n",
       "      <td>Chris Rosso</td>\n",
       "      <td>CV12.txt</td>\n",
       "    </tr>\n",
       "    <tr>\n",
       "      <th>12</th>\n",
       "      <td>Pheobe Buffay</td>\n",
       "      <td>CV13.txt</td>\n",
       "    </tr>\n",
       "    <tr>\n",
       "      <th>13</th>\n",
       "      <td>Rachel Bing</td>\n",
       "      <td>CV14.txt</td>\n",
       "    </tr>\n",
       "    <tr>\n",
       "      <th>14</th>\n",
       "      <td>Pheobe Buffay</td>\n",
       "      <td>CV15.txt</td>\n",
       "    </tr>\n",
       "    <tr>\n",
       "      <th>15</th>\n",
       "      <td>Jackey Forman</td>\n",
       "      <td>CV16.txt</td>\n",
       "    </tr>\n",
       "  </tbody>\n",
       "</table>\n",
       "</div>"
      ],
      "text/plain": [
       "   Name of Candidate Name of File\n",
       "0       Conner Chase      CV1.txt\n",
       "1       Blaire Clark      CV2.txt\n",
       "2           Nick Liu      CV3.txt\n",
       "3      Andi Richards      CV4.txt\n",
       "4        Cater Young      CV5.txt\n",
       "5        Jason Huang      CV6.txt\n",
       "6    Christine Lacey      CV7.txt\n",
       "7       Jasmine Weir      CV8.txt\n",
       "8    Iris Richardson      CV9.txt\n",
       "9         Jade Smith     CV10.txt\n",
       "10          Jay Hope     CV11.txt\n",
       "11       Chris Rosso     CV12.txt\n",
       "12     Pheobe Buffay     CV13.txt\n",
       "13       Rachel Bing     CV14.txt\n",
       "14     Pheobe Buffay     CV15.txt\n",
       "15     Jackey Forman     CV16.txt"
      ]
     },
     "execution_count": 635,
     "metadata": {},
     "output_type": "execute_result"
    }
   ],
   "source": [
    "cddlist= pd.read_csv('/Users/AshleaHuang/Desktop/A1/Resume/Candidates.csv', skiprows=3)\n",
    "cddlist"
   ]
  },
  {
   "cell_type": "markdown",
   "metadata": {},
   "source": [
    "### <span style=color:blue> Step3 - Screen and Match</span>"
   ]
  },
  {
   "cell_type": "markdown",
   "metadata": {},
   "source": [
    "To find the right candidates, we need to filter the resumes that match the skills this position requires. To achieve this, we have to parse the keywords in job description and the key words in candidates' resume.\n",
    "In order to find the best fit, we will be assigning score to the candidates to see who match the requirements the most."
   ]
  },
  {
   "cell_type": "code",
   "execution_count": 636,
   "metadata": {},
   "outputs": [],
   "source": [
    "resume =('/Users/AshleaHuang/Desktop/A1/Resume')\n",
    "JD = os.path.join(os.getcwd(),'/Users/AshleaHuang/Desktop/A1/Job Description.txt')\n",
    "with open(JD,'r') as f:\n",
    "    rq = f.read().lower()\n",
    "keyword = [word.strip() for word in rq.split()]\n",
    "\n",
    "score = {}\n",
    "for index, row in cddlist.iterrows():\n",
    "    with open(os.path.join(resume, row['Name of File']),'r',encoding='utf8') as f:\n",
    "        dt = f.read()\n",
    "    content = [word.strip() for word in dt.split()]\n",
    "    match = set(keyword) & set(content)\n",
    "    score.update({row['Name of Candidate']:len(set(match))})"
   ]
  },
  {
   "cell_type": "code",
   "execution_count": 637,
   "metadata": {},
   "outputs": [
    {
     "data": {
      "text/plain": [
       "{'Rachel Bing': 64,\n",
       " 'Jasmine Weir': 52,\n",
       " 'Iris Richardson': 50,\n",
       " 'Pheobe Buffay': 49,\n",
       " 'Jason Huang': 39,\n",
       " 'Nick Liu': 32,\n",
       " 'Andi Richards': 32,\n",
       " 'Conner Chase': 30,\n",
       " 'Jackey Forman': 30,\n",
       " 'Christine Lacey': 28,\n",
       " 'Chris Rosso': 27,\n",
       " 'Blaire Clark': 26,\n",
       " 'Cater Young': 23,\n",
       " 'Jay Hope': 21,\n",
       " 'Jade Smith': 15}"
      ]
     },
     "execution_count": 637,
     "metadata": {},
     "output_type": "execute_result"
    }
   ],
   "source": [
    "#set the score list to descending order\n",
    "rank={name: score[name] for name in sorted(score,key=score.get,reverse=True)}\n",
    "rank\n"
   ]
  },
  {
   "cell_type": "markdown",
   "metadata": {},
   "source": [
    "As seen above, we have assigned the scores to each candidates and sort it in descending order."
   ]
  },
  {
   "cell_type": "markdown",
   "metadata": {},
   "source": [
    "### <span style=color:blue> Step5 - Final Shortlist </span>"
   ]
  },
  {
   "cell_type": "markdown",
   "metadata": {},
   "source": [
    "At last, to find the candidates with best qualities, we are going to pick out the top 5 candidates in this screening process."
   ]
  },
  {
   "cell_type": "code",
   "execution_count": 638,
   "metadata": {
    "scrolled": true
   },
   "outputs": [
    {
     "data": {
      "text/plain": [
       "['Rachel Bing',\n",
       " 'Jasmine Weir',\n",
       " 'Iris Richardson',\n",
       " 'Pheobe Buffay',\n",
       " 'Jason Huang']"
      ]
     },
     "execution_count": 638,
     "metadata": {},
     "output_type": "execute_result"
    }
   ],
   "source": [
    "top5 = list(rank)[:5]\n",
    "top5"
   ]
  },
  {
   "cell_type": "code",
   "execution_count": 639,
   "metadata": {
    "scrolled": true
   },
   "outputs": [],
   "source": [
    "#creating a shortlist from candidate list\n",
    "shortlist = ('/Users/AshleaHuang/Desktop/A1/Resume/shortlist.csv')\n",
    "with open(shortlist, 'w') as f:\n",
    "    for cddlist in top5:\n",
    "        f.write(\"%s\\n\"%cddlist)"
   ]
  },
  {
   "cell_type": "code",
   "execution_count": 640,
   "metadata": {},
   "outputs": [],
   "source": [
    "#organizing the final list by adding Name as header and export to file - to interview\n",
    "slist = read_csv('/Users/AshleaHuang/Desktop/A1/Resume/shortlist.csv',header=None)\n",
    "slist.columns = ['Name']\n",
    "slist.to_csv('/Users/AshleaHuang/Desktop/A1/Resume/ToInterview.csv')"
   ]
  },
  {
   "cell_type": "code",
   "execution_count": 641,
   "metadata": {},
   "outputs": [
    {
     "data": {
      "text/html": [
       "<div>\n",
       "<style scoped>\n",
       "    .dataframe tbody tr th:only-of-type {\n",
       "        vertical-align: middle;\n",
       "    }\n",
       "\n",
       "    .dataframe tbody tr th {\n",
       "        vertical-align: top;\n",
       "    }\n",
       "\n",
       "    .dataframe thead th {\n",
       "        text-align: right;\n",
       "    }\n",
       "</style>\n",
       "<table border=\"1\" class=\"dataframe\">\n",
       "  <thead>\n",
       "    <tr style=\"text-align: right;\">\n",
       "      <th></th>\n",
       "      <th>Name</th>\n",
       "    </tr>\n",
       "  </thead>\n",
       "  <tbody>\n",
       "    <tr>\n",
       "      <th>0</th>\n",
       "      <td>Rachel Bing</td>\n",
       "    </tr>\n",
       "    <tr>\n",
       "      <th>1</th>\n",
       "      <td>Jasmine Weir</td>\n",
       "    </tr>\n",
       "    <tr>\n",
       "      <th>2</th>\n",
       "      <td>Iris Richardson</td>\n",
       "    </tr>\n",
       "    <tr>\n",
       "      <th>3</th>\n",
       "      <td>Pheobe Buffay</td>\n",
       "    </tr>\n",
       "    <tr>\n",
       "      <th>4</th>\n",
       "      <td>Jason Huang</td>\n",
       "    </tr>\n",
       "  </tbody>\n",
       "</table>\n",
       "</div>"
      ],
      "text/plain": [
       "              Name\n",
       "0      Rachel Bing\n",
       "1     Jasmine Weir\n",
       "2  Iris Richardson\n",
       "3    Pheobe Buffay\n",
       "4      Jason Huang"
      ]
     },
     "execution_count": 641,
     "metadata": {},
     "output_type": "execute_result"
    }
   ],
   "source": [
    "Result = read_csv('/Users/AshleaHuang/Desktop/A1/Resume/ToInterview.csv', index_col=[0])\n",
    "Result"
   ]
  },
  {
   "cell_type": "markdown",
   "metadata": {},
   "source": [
    "As a result, the list as shown above are arrnaged in descending order, which means the candidate Rachel Bing has the best qualification for this role."
   ]
  },
  {
   "cell_type": "code",
   "execution_count": null,
   "metadata": {},
   "outputs": [],
   "source": []
  },
  {
   "cell_type": "code",
   "execution_count": null,
   "metadata": {},
   "outputs": [],
   "source": []
  }
 ],
 "metadata": {
  "kernelspec": {
   "display_name": "Python 3",
   "language": "python",
   "name": "python3"
  },
  "language_info": {
   "codemirror_mode": {
    "name": "ipython",
    "version": 3
   },
   "file_extension": ".py",
   "mimetype": "text/x-python",
   "name": "python",
   "nbconvert_exporter": "python",
   "pygments_lexer": "ipython3",
   "version": "3.7.3"
  }
 },
 "nbformat": 4,
 "nbformat_minor": 2
}
